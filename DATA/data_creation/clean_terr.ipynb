{
 "cells": [
  {
   "cell_type": "code",
   "execution_count": 1,
   "metadata": {},
   "outputs": [],
   "source": [
    "import pandas as pd\n",
    "import matplotlib.pyplot as plt\n",
    "from kneed import KneeLocator\n",
    "from numpy import NaN"
   ]
  },
  {
   "cell_type": "code",
   "execution_count": 2,
   "metadata": {},
   "outputs": [],
   "source": [
    "data = pd.read_excel('C:/Users/lucab/AAACODE/DATA/globalterrorismdb_0522dist.xlsx')"
   ]
  },
  {
   "cell_type": "code",
   "execution_count": 3,
   "metadata": {},
   "outputs": [
    {
     "data": {
      "text/plain": [
       "209706"
      ]
     },
     "execution_count": 3,
     "metadata": {},
     "output_type": "execute_result"
    }
   ],
   "source": [
    "len(data)"
   ]
  },
  {
   "cell_type": "code",
   "execution_count": 4,
   "metadata": {},
   "outputs": [],
   "source": [
    "df=data.copy()"
   ]
  },
  {
   "cell_type": "code",
   "execution_count": 5,
   "metadata": {},
   "outputs": [],
   "source": [
    "#mask=df['iyear']>=2000\n",
    "#df=df[mask]"
   ]
  },
  {
   "cell_type": "code",
   "execution_count": 6,
   "metadata": {},
   "outputs": [],
   "source": [
    "#df.dropna(subset='nkill',inplace=True)"
   ]
  },
  {
   "cell_type": "code",
   "execution_count": 7,
   "metadata": {},
   "outputs": [],
   "source": [
    "deathprop = df['nkill'].apply(lambda x:1 if x !=0 else 0 )"
   ]
  },
  {
   "cell_type": "code",
   "execution_count": 8,
   "metadata": {},
   "outputs": [
    {
     "data": {
      "text/plain": [
       "nkill\n",
       "1    110356\n",
       "0     99350\n",
       "Name: count, dtype: int64"
      ]
     },
     "execution_count": 8,
     "metadata": {},
     "output_type": "execute_result"
    }
   ],
   "source": [
    "deathprop.value_counts()"
   ]
  },
  {
   "cell_type": "code",
   "execution_count": 9,
   "metadata": {},
   "outputs": [],
   "source": [
    "#df = df[df['nkill'] > 0]"
   ]
  },
  {
   "cell_type": "code",
   "execution_count": 10,
   "metadata": {},
   "outputs": [
    {
     "data": {
      "text/html": [
       "<div>\n",
       "<style scoped>\n",
       "    .dataframe tbody tr th:only-of-type {\n",
       "        vertical-align: middle;\n",
       "    }\n",
       "\n",
       "    .dataframe tbody tr th {\n",
       "        vertical-align: top;\n",
       "    }\n",
       "\n",
       "    .dataframe thead th {\n",
       "        text-align: right;\n",
       "    }\n",
       "</style>\n",
       "<table border=\"1\" class=\"dataframe\">\n",
       "  <thead>\n",
       "    <tr style=\"text-align: right;\">\n",
       "      <th></th>\n",
       "      <th>eventid</th>\n",
       "      <th>iyear</th>\n",
       "      <th>imonth</th>\n",
       "      <th>iday</th>\n",
       "      <th>approxdate</th>\n",
       "      <th>extended</th>\n",
       "      <th>resolution</th>\n",
       "      <th>country</th>\n",
       "      <th>country_txt</th>\n",
       "      <th>region</th>\n",
       "      <th>...</th>\n",
       "      <th>addnotes</th>\n",
       "      <th>scite1</th>\n",
       "      <th>scite2</th>\n",
       "      <th>scite3</th>\n",
       "      <th>dbsource</th>\n",
       "      <th>INT_LOG</th>\n",
       "      <th>INT_IDEO</th>\n",
       "      <th>INT_MISC</th>\n",
       "      <th>INT_ANY</th>\n",
       "      <th>related</th>\n",
       "    </tr>\n",
       "  </thead>\n",
       "  <tbody>\n",
       "    <tr>\n",
       "      <th>0</th>\n",
       "      <td>197000000001</td>\n",
       "      <td>1970</td>\n",
       "      <td>7</td>\n",
       "      <td>2</td>\n",
       "      <td>NaN</td>\n",
       "      <td>0</td>\n",
       "      <td>NaT</td>\n",
       "      <td>58</td>\n",
       "      <td>Dominican Republic</td>\n",
       "      <td>2</td>\n",
       "      <td>...</td>\n",
       "      <td>NaN</td>\n",
       "      <td>NaN</td>\n",
       "      <td>NaN</td>\n",
       "      <td>NaN</td>\n",
       "      <td>PGIS</td>\n",
       "      <td>0</td>\n",
       "      <td>0</td>\n",
       "      <td>0</td>\n",
       "      <td>0</td>\n",
       "      <td>NaN</td>\n",
       "    </tr>\n",
       "    <tr>\n",
       "      <th>1</th>\n",
       "      <td>197000000002</td>\n",
       "      <td>1970</td>\n",
       "      <td>0</td>\n",
       "      <td>0</td>\n",
       "      <td>NaN</td>\n",
       "      <td>0</td>\n",
       "      <td>NaT</td>\n",
       "      <td>130</td>\n",
       "      <td>Mexico</td>\n",
       "      <td>1</td>\n",
       "      <td>...</td>\n",
       "      <td>NaN</td>\n",
       "      <td>NaN</td>\n",
       "      <td>NaN</td>\n",
       "      <td>NaN</td>\n",
       "      <td>PGIS</td>\n",
       "      <td>0</td>\n",
       "      <td>1</td>\n",
       "      <td>1</td>\n",
       "      <td>1</td>\n",
       "      <td>NaN</td>\n",
       "    </tr>\n",
       "    <tr>\n",
       "      <th>2</th>\n",
       "      <td>197001000001</td>\n",
       "      <td>1970</td>\n",
       "      <td>1</td>\n",
       "      <td>0</td>\n",
       "      <td>NaN</td>\n",
       "      <td>0</td>\n",
       "      <td>NaT</td>\n",
       "      <td>160</td>\n",
       "      <td>Philippines</td>\n",
       "      <td>5</td>\n",
       "      <td>...</td>\n",
       "      <td>NaN</td>\n",
       "      <td>NaN</td>\n",
       "      <td>NaN</td>\n",
       "      <td>NaN</td>\n",
       "      <td>PGIS</td>\n",
       "      <td>-9</td>\n",
       "      <td>-9</td>\n",
       "      <td>1</td>\n",
       "      <td>1</td>\n",
       "      <td>NaN</td>\n",
       "    </tr>\n",
       "    <tr>\n",
       "      <th>3</th>\n",
       "      <td>197001000002</td>\n",
       "      <td>1970</td>\n",
       "      <td>1</td>\n",
       "      <td>0</td>\n",
       "      <td>NaN</td>\n",
       "      <td>0</td>\n",
       "      <td>NaT</td>\n",
       "      <td>78</td>\n",
       "      <td>Greece</td>\n",
       "      <td>8</td>\n",
       "      <td>...</td>\n",
       "      <td>NaN</td>\n",
       "      <td>NaN</td>\n",
       "      <td>NaN</td>\n",
       "      <td>NaN</td>\n",
       "      <td>PGIS</td>\n",
       "      <td>-9</td>\n",
       "      <td>-9</td>\n",
       "      <td>1</td>\n",
       "      <td>1</td>\n",
       "      <td>NaN</td>\n",
       "    </tr>\n",
       "    <tr>\n",
       "      <th>4</th>\n",
       "      <td>197001000003</td>\n",
       "      <td>1970</td>\n",
       "      <td>1</td>\n",
       "      <td>0</td>\n",
       "      <td>NaN</td>\n",
       "      <td>0</td>\n",
       "      <td>NaT</td>\n",
       "      <td>101</td>\n",
       "      <td>Japan</td>\n",
       "      <td>4</td>\n",
       "      <td>...</td>\n",
       "      <td>NaN</td>\n",
       "      <td>NaN</td>\n",
       "      <td>NaN</td>\n",
       "      <td>NaN</td>\n",
       "      <td>PGIS</td>\n",
       "      <td>-9</td>\n",
       "      <td>-9</td>\n",
       "      <td>1</td>\n",
       "      <td>1</td>\n",
       "      <td>NaN</td>\n",
       "    </tr>\n",
       "    <tr>\n",
       "      <th>...</th>\n",
       "      <td>...</td>\n",
       "      <td>...</td>\n",
       "      <td>...</td>\n",
       "      <td>...</td>\n",
       "      <td>...</td>\n",
       "      <td>...</td>\n",
       "      <td>...</td>\n",
       "      <td>...</td>\n",
       "      <td>...</td>\n",
       "      <td>...</td>\n",
       "      <td>...</td>\n",
       "      <td>...</td>\n",
       "      <td>...</td>\n",
       "      <td>...</td>\n",
       "      <td>...</td>\n",
       "      <td>...</td>\n",
       "      <td>...</td>\n",
       "      <td>...</td>\n",
       "      <td>...</td>\n",
       "      <td>...</td>\n",
       "      <td>...</td>\n",
       "    </tr>\n",
       "    <tr>\n",
       "      <th>209701</th>\n",
       "      <td>202012310015</td>\n",
       "      <td>2020</td>\n",
       "      <td>12</td>\n",
       "      <td>31</td>\n",
       "      <td>2020-12-31 00:00:00</td>\n",
       "      <td>0</td>\n",
       "      <td>NaT</td>\n",
       "      <td>228</td>\n",
       "      <td>Yemen</td>\n",
       "      <td>10</td>\n",
       "      <td>...</td>\n",
       "      <td>NaN</td>\n",
       "      <td>\"Al Houthi militia escalated in Hays and targe...</td>\n",
       "      <td>NaN</td>\n",
       "      <td>NaN</td>\n",
       "      <td>START Primary Collection</td>\n",
       "      <td>0</td>\n",
       "      <td>0</td>\n",
       "      <td>0</td>\n",
       "      <td>0</td>\n",
       "      <td>NaN</td>\n",
       "    </tr>\n",
       "    <tr>\n",
       "      <th>209702</th>\n",
       "      <td>202012310016</td>\n",
       "      <td>2020</td>\n",
       "      <td>12</td>\n",
       "      <td>31</td>\n",
       "      <td>2020-12-31 00:00:00</td>\n",
       "      <td>0</td>\n",
       "      <td>NaT</td>\n",
       "      <td>228</td>\n",
       "      <td>Yemen</td>\n",
       "      <td>10</td>\n",
       "      <td>...</td>\n",
       "      <td>NaN</td>\n",
       "      <td>\"Al Houthi militia escalated in Hays and targe...</td>\n",
       "      <td>NaN</td>\n",
       "      <td>NaN</td>\n",
       "      <td>START Primary Collection</td>\n",
       "      <td>0</td>\n",
       "      <td>0</td>\n",
       "      <td>0</td>\n",
       "      <td>0</td>\n",
       "      <td>NaN</td>\n",
       "    </tr>\n",
       "    <tr>\n",
       "      <th>209703</th>\n",
       "      <td>202012310017</td>\n",
       "      <td>2020</td>\n",
       "      <td>12</td>\n",
       "      <td>31</td>\n",
       "      <td>NaN</td>\n",
       "      <td>0</td>\n",
       "      <td>NaT</td>\n",
       "      <td>75</td>\n",
       "      <td>Germany</td>\n",
       "      <td>8</td>\n",
       "      <td>...</td>\n",
       "      <td>NaN</td>\n",
       "      <td>\"Far-left arson attack suspected on German asy...</td>\n",
       "      <td>\"Fire of Bundeswehr vehicles in Leipzig, proba...</td>\n",
       "      <td>\"Anarchist Antifa Take Credit for Arson Attack...</td>\n",
       "      <td>START Primary Collection</td>\n",
       "      <td>-9</td>\n",
       "      <td>-9</td>\n",
       "      <td>0</td>\n",
       "      <td>-9</td>\n",
       "      <td>NaN</td>\n",
       "    </tr>\n",
       "    <tr>\n",
       "      <th>209704</th>\n",
       "      <td>202012310018</td>\n",
       "      <td>2020</td>\n",
       "      <td>12</td>\n",
       "      <td>31</td>\n",
       "      <td>NaN</td>\n",
       "      <td>0</td>\n",
       "      <td>NaT</td>\n",
       "      <td>4</td>\n",
       "      <td>Afghanistan</td>\n",
       "      <td>6</td>\n",
       "      <td>...</td>\n",
       "      <td>NaN</td>\n",
       "      <td>\"Civil society activist and tribal elder kille...</td>\n",
       "      <td>\"Terrorism Digest: 1-2 Jan 21,\" BBC Monitoring...</td>\n",
       "      <td>NaN</td>\n",
       "      <td>START Primary Collection</td>\n",
       "      <td>-9</td>\n",
       "      <td>-9</td>\n",
       "      <td>0</td>\n",
       "      <td>-9</td>\n",
       "      <td>NaN</td>\n",
       "    </tr>\n",
       "    <tr>\n",
       "      <th>209705</th>\n",
       "      <td>202012310019</td>\n",
       "      <td>2020</td>\n",
       "      <td>12</td>\n",
       "      <td>31</td>\n",
       "      <td>NaN</td>\n",
       "      <td>1</td>\n",
       "      <td>NaT</td>\n",
       "      <td>33</td>\n",
       "      <td>Burkina Faso</td>\n",
       "      <td>11</td>\n",
       "      <td>...</td>\n",
       "      <td>NaN</td>\n",
       "      <td>\"Terrorism Digest: 3-4 Jan 21,\" BBC Monitoring...</td>\n",
       "      <td>NaN</td>\n",
       "      <td>NaN</td>\n",
       "      <td>START Primary Collection</td>\n",
       "      <td>-9</td>\n",
       "      <td>-9</td>\n",
       "      <td>0</td>\n",
       "      <td>-9</td>\n",
       "      <td>NaN</td>\n",
       "    </tr>\n",
       "  </tbody>\n",
       "</table>\n",
       "<p>209706 rows × 135 columns</p>\n",
       "</div>"
      ],
      "text/plain": [
       "             eventid  iyear  imonth  iday           approxdate  extended  \\\n",
       "0       197000000001   1970       7     2                  NaN         0   \n",
       "1       197000000002   1970       0     0                  NaN         0   \n",
       "2       197001000001   1970       1     0                  NaN         0   \n",
       "3       197001000002   1970       1     0                  NaN         0   \n",
       "4       197001000003   1970       1     0                  NaN         0   \n",
       "...              ...    ...     ...   ...                  ...       ...   \n",
       "209701  202012310015   2020      12    31  2020-12-31 00:00:00         0   \n",
       "209702  202012310016   2020      12    31  2020-12-31 00:00:00         0   \n",
       "209703  202012310017   2020      12    31                  NaN         0   \n",
       "209704  202012310018   2020      12    31                  NaN         0   \n",
       "209705  202012310019   2020      12    31                  NaN         1   \n",
       "\n",
       "       resolution  country         country_txt  region  ... addnotes  \\\n",
       "0             NaT       58  Dominican Republic       2  ...      NaN   \n",
       "1             NaT      130              Mexico       1  ...      NaN   \n",
       "2             NaT      160         Philippines       5  ...      NaN   \n",
       "3             NaT       78              Greece       8  ...      NaN   \n",
       "4             NaT      101               Japan       4  ...      NaN   \n",
       "...           ...      ...                 ...     ...  ...      ...   \n",
       "209701        NaT      228               Yemen      10  ...      NaN   \n",
       "209702        NaT      228               Yemen      10  ...      NaN   \n",
       "209703        NaT       75             Germany       8  ...      NaN   \n",
       "209704        NaT        4         Afghanistan       6  ...      NaN   \n",
       "209705        NaT       33        Burkina Faso      11  ...      NaN   \n",
       "\n",
       "                                                   scite1  \\\n",
       "0                                                     NaN   \n",
       "1                                                     NaN   \n",
       "2                                                     NaN   \n",
       "3                                                     NaN   \n",
       "4                                                     NaN   \n",
       "...                                                   ...   \n",
       "209701  \"Al Houthi militia escalated in Hays and targe...   \n",
       "209702  \"Al Houthi militia escalated in Hays and targe...   \n",
       "209703  \"Far-left arson attack suspected on German asy...   \n",
       "209704  \"Civil society activist and tribal elder kille...   \n",
       "209705  \"Terrorism Digest: 3-4 Jan 21,\" BBC Monitoring...   \n",
       "\n",
       "                                                   scite2  \\\n",
       "0                                                     NaN   \n",
       "1                                                     NaN   \n",
       "2                                                     NaN   \n",
       "3                                                     NaN   \n",
       "4                                                     NaN   \n",
       "...                                                   ...   \n",
       "209701                                                NaN   \n",
       "209702                                                NaN   \n",
       "209703  \"Fire of Bundeswehr vehicles in Leipzig, proba...   \n",
       "209704  \"Terrorism Digest: 1-2 Jan 21,\" BBC Monitoring...   \n",
       "209705                                                NaN   \n",
       "\n",
       "                                                   scite3  \\\n",
       "0                                                     NaN   \n",
       "1                                                     NaN   \n",
       "2                                                     NaN   \n",
       "3                                                     NaN   \n",
       "4                                                     NaN   \n",
       "...                                                   ...   \n",
       "209701                                                NaN   \n",
       "209702                                                NaN   \n",
       "209703  \"Anarchist Antifa Take Credit for Arson Attack...   \n",
       "209704                                                NaN   \n",
       "209705                                                NaN   \n",
       "\n",
       "                        dbsource  INT_LOG  INT_IDEO INT_MISC INT_ANY  related  \n",
       "0                           PGIS        0         0        0       0      NaN  \n",
       "1                           PGIS        0         1        1       1      NaN  \n",
       "2                           PGIS       -9        -9        1       1      NaN  \n",
       "3                           PGIS       -9        -9        1       1      NaN  \n",
       "4                           PGIS       -9        -9        1       1      NaN  \n",
       "...                          ...      ...       ...      ...     ...      ...  \n",
       "209701  START Primary Collection        0         0        0       0      NaN  \n",
       "209702  START Primary Collection        0         0        0       0      NaN  \n",
       "209703  START Primary Collection       -9        -9        0      -9      NaN  \n",
       "209704  START Primary Collection       -9        -9        0      -9      NaN  \n",
       "209705  START Primary Collection       -9        -9        0      -9      NaN  \n",
       "\n",
       "[209706 rows x 135 columns]"
      ]
     },
     "execution_count": 10,
     "metadata": {},
     "output_type": "execute_result"
    }
   ],
   "source": [
    "df"
   ]
  },
  {
   "cell_type": "code",
   "execution_count": 11,
   "metadata": {},
   "outputs": [],
   "source": [
    "att_type_dum=pd.get_dummies(data=df['attacktype1_txt'],columns=['attacktype1_txt'],prefix='att',dtype=int)\n",
    "weap_type_dum=pd.get_dummies(data=df['weaptype1_txt'],columns=['weaptype1_txt'],prefix='weap',dtype=int)\n",
    "targ_type_dum=pd.get_dummies(data=df['targtype1_txt'],columns=['targtype1_txt'],prefix='targ',dtype=int)\n",
    "region_dum = pd.get_dummies(data=df['region_txt'],columns='region_txt',prefix='reg',dtype=int,drop_first=True)\n"
   ]
  },
  {
   "cell_type": "code",
   "execution_count": 12,
   "metadata": {},
   "outputs": [],
   "source": [
    "att_type_dum.drop(columns='att_Unknown',inplace=True)\n",
    "weap_type_dum.drop(columns='weap_Unknown',inplace=True)\n",
    "targ_type_dum.drop(columns='targ_Unknown',inplace=True)"
   ]
  },
  {
   "cell_type": "code",
   "execution_count": 13,
   "metadata": {},
   "outputs": [],
   "source": [
    "#result_df = pd.DataFrame({'eventid':[]})"
   ]
  },
  {
   "cell_type": "code",
   "execution_count": 14,
   "metadata": {},
   "outputs": [],
   "source": [
    "result_df = pd.concat([att_type_dum, weap_type_dum, targ_type_dum,region_dum], axis=1)\n",
    "\n",
    "#result_df['eventid'] = data['eventid']"
   ]
  },
  {
   "cell_type": "code",
   "execution_count": 15,
   "metadata": {},
   "outputs": [
    {
     "name": "stderr",
     "output_type": "stream",
     "text": [
      "C:\\Users\\lucab\\AppData\\Local\\Temp\\ipykernel_21856\\1650900825.py:2: FutureWarning: A value is trying to be set on a copy of a DataFrame or Series through chained assignment using an inplace method.\n",
      "The behavior will change in pandas 3.0. This inplace method will never work because the intermediate object on which we are setting values always behaves as a copy.\n",
      "\n",
      "For example, when doing 'df[col].method(value, inplace=True)', try using 'df.method({col: value}, inplace=True)' or df[col] = df[col].method(value) instead, to perform the operation inplace on the original object.\n",
      "\n",
      "\n",
      "  result_df['INT_MISC'].replace(to_replace=-9,value=NaN,inplace=True)\n"
     ]
    }
   ],
   "source": [
    "result_df['INT_MISC'] = data['INT_MISC']\n",
    "result_df['INT_MISC'].replace(to_replace=-9,value=NaN,inplace=True)"
   ]
  },
  {
   "cell_type": "code",
   "execution_count": 16,
   "metadata": {},
   "outputs": [],
   "source": [
    "#result_df['nperps'] = data['nperps']\n",
    "#result_df['nperps'].replace(to_replace=-99,value=NaN,inplace=True)\n",
    "result_df['individual'] = data['individual']\n",
    "result_df['multiple'] = data['multiple']\n",
    "result_df['success'] = data['success']\n",
    "result_df['suicide'] = data['suicide']\n",
    "result_df['eventid'] = data['eventid']\n",
    "result_df['country_txt'] = data['country_txt']\n",
    "result_df['iyear'] = data['iyear']\n",
    "result_df['gname'] = data['gname']\n",
    "result_df['nkill'] = data['nkill']\n",
    "#result_df['nwound'] = data['nwound']\n",
    "result_df['motive'] = data['motive']\n",
    "#result_df['ransom'] = data['ransom']\n",
    "#result_df['property'] = data['property']\n",
    "#result_df['property'].replace(to_replace=-9,value=NaN,inplace=True)\n",
    "#result_df['attack_type'] = data['attacktype1_txt']\n",
    "#result_df['weapon_type'] = data['weaptype1_txt']\n",
    "#result_df['target_type'] = data['targtype1_txt']\n",
    "#result_df['region'] = data['region_txt']"
   ]
  },
  {
   "cell_type": "code",
   "execution_count": 17,
   "metadata": {},
   "outputs": [
    {
     "data": {
      "text/plain": [
       "209706"
      ]
     },
     "execution_count": 17,
     "metadata": {},
     "output_type": "execute_result"
    }
   ],
   "source": [
    "len(result_df)"
   ]
  },
  {
   "cell_type": "code",
   "execution_count": 18,
   "metadata": {},
   "outputs": [
    {
     "name": "stderr",
     "output_type": "stream",
     "text": [
      "C:\\Users\\lucab\\AppData\\Local\\Temp\\ipykernel_21856\\1701818874.py:1: DtypeWarning: Columns (364,365,366,399,415,804,836,837,924,1240,1257,1486,3094,3168,3169,3341,3342,3344,3345,3347,3350,3352) have mixed types. Specify dtype option on import or set low_memory=False.\n",
      "  vdf = pd.read_csv(\"C:/Users/lucab/AAACODE/DATA/V-Dem-CY-Full+Others-v14.csv\")\n"
     ]
    }
   ],
   "source": [
    "vdf = pd.read_csv(\"C:/Users/lucab/AAACODE/DATA/V-Dem-CY-Full+Others-v14.csv\")"
   ]
  },
  {
   "cell_type": "code",
   "execution_count": 19,
   "metadata": {},
   "outputs": [],
   "source": [
    "special = result_df\n",
    "special_vdf = vdf"
   ]
  },
  {
   "cell_type": "code",
   "execution_count": 20,
   "metadata": {},
   "outputs": [],
   "source": [
    "mask = special['country_txt'] == 'United States'\n",
    "mask2 = special['country_txt'] == 'West Germany (FRG)' \n",
    "mask3= special['country_txt'] == 'East Germany (GDR)'\n",
    "mask4= special['country_txt'] =='West Bank and Gaza Strip'\n",
    "mask5= special['country_txt'] == 'Myanmar'\n",
    "mask6 = special['country_txt'] == 'Dominica'\n",
    "mask7 = special['country_txt']=='Bosnia-Herzegovina'\n",
    "mask8 = special['country_txt'] == 'Macedonia'\n",
    "mask9 = special['country_txt'] == 'Slovak Republic'\n",
    "mask10 = special['country_txt']== 'Czech Republic'\n",
    "mask11 = special['country_txt'] == 'Zaire'\n",
    "mask12 = special['country_txt'] == 'Soviet Union'\n",
    "mask13 = special['country_txt'] == \"People's Republic of the Congo\"\n",
    "mask14 = special['country_txt'] == 'North Yemen'\n",
    "mask15 = special['country_txt'] == 'Rhodesia'\n",
    "mask16 = special['country_txt'] == 'Yugoslavia'\n",
    "mask17 = special['country_txt'] == 'Serbia-Montenegro'\n",
    "mask18 = special['country_txt'] == 'Swaziland'\n",
    "mask19 = special['country_txt'] == 'Czechoslovakia'\n",
    "mask20 = special['country_txt'] == 'East Timor'\n",
    "mask21 = special_vdf['country_id'] == 99"
   ]
  },
  {
   "cell_type": "code",
   "execution_count": 21,
   "metadata": {},
   "outputs": [],
   "source": [
    "special.loc[mask,'country_txt']='United States of America'\n",
    "special.loc[mask2,'country_txt']='Germany'\n",
    "special.loc[mask3,'country_txt']='Germany'\n",
    "special.loc[mask4,'country_txt']='Palestine/West Bank'\n",
    "special.loc[mask5,'country_txt']='Burma/Myanmar'\n",
    "special.loc[mask6,'country_txt'] = 'Dominican Republic'\n",
    "special.loc[mask7,'country_txt'] = 'Bosnia and Herzegovina'\n",
    "special.loc[mask8,'country_txt'] = 'North Macedonia'\n",
    "special.loc[mask9,'country_txt'] = 'Slovakia'\n",
    "special.loc[mask10,'country_txt'] = 'Czechia'\n",
    "special.loc[mask11,'country_txt'] = 'Republic of the Congo'\n",
    "special.loc[mask12,'country_txt'] = 'Russia'\n",
    "special.loc[mask13,'country_txt'] = 'Republic of the Congo'\n",
    "special.loc[mask14,'country_txt'] = 'Yemen'\n",
    "special.loc[mask15,'country_txt'] ='Zimbabwe'\n",
    "special.loc[mask16,'country_txt'] ='Serbia'\n",
    "special.loc[mask17,'country_txt'] ='Montenegro'\n",
    "special.loc[mask18,'country_txt'] ='Eswatini'\n",
    "special.loc[mask19,'country_txt'] = 'Czechia'\n",
    "special.loc[mask20,'country_txt'] = 'Timor-Leste'\n",
    "special_vdf.loc[mask21,'country_name'] = 'Turkey'"
   ]
  },
  {
   "cell_type": "code",
   "execution_count": 22,
   "metadata": {},
   "outputs": [
    {
     "data": {
      "text/plain": [
       "211"
      ]
     },
     "execution_count": 22,
     "metadata": {},
     "output_type": "execute_result"
    }
   ],
   "source": [
    "# Specify the added feature column names you want to merge from vdem_df\n",
    "features_to_merge = ['v2x_ex_military', 'v2x_clphy', 'v2x_rule','v2cldiscw','v2clacfree','v2clsnlpct','v2dlencmps','v2elembcap','v2exhoshog']  # Replace these with your actual feature column names\n",
    "\n",
    "# Adjust the merge to include only the specified added features along with the keys for merging\n",
    "merged_df = pd.merge(special, special_vdf[['country_name', 'year'] + features_to_merge],\n",
    "                     left_on=['country_txt', 'iyear'],\n",
    "                     right_on=['country_name', 'year'],\n",
    "                     how='left')\n",
    "\n",
    "merged_df.drop(columns=['iyear','country_name'],axis=1,inplace=True)\n",
    "merged_df['v2exhoshog'].isnull().sum()"
   ]
  },
  {
   "cell_type": "code",
   "execution_count": 23,
   "metadata": {},
   "outputs": [
    {
     "name": "stdout",
     "output_type": "stream",
     "text": [
      "211\n",
      "211\n",
      "211\n",
      "211\n",
      "211\n",
      "1025\n",
      "211\n",
      "216\n",
      "211\n"
     ]
    }
   ],
   "source": [
    "for x in features_to_merge:\n",
    "    print(merged_df[x].isnull().sum())"
   ]
  },
  {
   "cell_type": "code",
   "execution_count": null,
   "metadata": {},
   "outputs": [],
   "source": []
  },
  {
   "cell_type": "code",
   "execution_count": 24,
   "metadata": {},
   "outputs": [],
   "source": [
    "merged_df.to_csv('t_dem.csv')"
   ]
  }
 ],
 "metadata": {
  "kernelspec": {
   "display_name": "Python 3",
   "language": "python",
   "name": "python3"
  },
  "language_info": {
   "codemirror_mode": {
    "name": "ipython",
    "version": 3
   },
   "file_extension": ".py",
   "mimetype": "text/x-python",
   "name": "python",
   "nbconvert_exporter": "python",
   "pygments_lexer": "ipython3",
   "version": "3.12.2"
  }
 },
 "nbformat": 4,
 "nbformat_minor": 2
}
