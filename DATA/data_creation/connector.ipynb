{
 "cells": [
  {
   "cell_type": "code",
   "execution_count": 1,
   "metadata": {},
   "outputs": [],
   "source": [
    "import pandas as pd"
   ]
  },
  {
   "cell_type": "code",
   "execution_count": 2,
   "metadata": {},
   "outputs": [],
   "source": [
    "demogra = pd.read_csv('damogra.csv')"
   ]
  },
  {
   "cell_type": "code",
   "execution_count": 3,
   "metadata": {},
   "outputs": [
    {
     "name": "stdout",
     "output_type": "stream",
     "text": [
      "['Unnamed: 0', 'eventid', 'country', 'year', 'Population', 'Net migration', 'Births from mothers aged 15 to 19 years', 'Population density']\n"
     ]
    }
   ],
   "source": [
    "print(demogra.columns.to_list())"
   ]
  },
  {
   "cell_type": "code",
   "execution_count": 4,
   "metadata": {},
   "outputs": [],
   "source": [
    "data = pd.read_csv('t_dem.csv')"
   ]
  },
  {
   "cell_type": "code",
   "execution_count": 5,
   "metadata": {},
   "outputs": [
    {
     "name": "stdout",
     "output_type": "stream",
     "text": [
      "['Unnamed: 0', 'att_Armed Assault', 'att_Assassination', 'att_Bombing/Explosion', 'att_Facility/Infrastructure Attack', 'att_Hijacking', 'att_Hostage Taking (Barricade Incident)', 'att_Hostage Taking (Kidnapping)', 'att_Unarmed Assault', 'weap_Biological', 'weap_Chemical', 'weap_Explosives', 'weap_Fake Weapons', 'weap_Firearms', 'weap_Incendiary', 'weap_Melee', 'weap_Other', 'weap_Radiological', 'weap_Sabotage Equipment', 'weap_Vehicle (not to include vehicle-borne explosives, i.e., car or truck bombs)', 'targ_Abortion Related', 'targ_Airports & Aircraft', 'targ_Business', 'targ_Educational Institution', 'targ_Food or Water Supply', 'targ_Government (Diplomatic)', 'targ_Government (General)', 'targ_Journalists & Media', 'targ_Maritime', 'targ_Military', 'targ_NGO', 'targ_Other', 'targ_Police', 'targ_Private Citizens & Property', 'targ_Religious Figures/Institutions', 'targ_Telecommunication', 'targ_Terrorists/Non-State Militia', 'targ_Tourists', 'targ_Transportation', 'targ_Utilities', 'targ_Violent Political Party', 'reg_Central America & Caribbean', 'reg_Central Asia', 'reg_East Asia', 'reg_Eastern Europe', 'reg_Middle East & North Africa', 'reg_North America', 'reg_South America', 'reg_South Asia', 'reg_Southeast Asia', 'reg_Sub-Saharan Africa', 'reg_Western Europe', 'INT_MISC', 'individual', 'multiple', 'success', 'suicide', 'eventid', 'country_txt', 'gname', 'nkill', 'motive', 'year', 'v2x_ex_military', 'v2x_clphy', 'v2x_rule', 'v2cldiscw', 'v2clacfree', 'v2clsnlpct', 'v2dlencmps', 'v2elembcap', 'v2exhoshog']\n"
     ]
    }
   ],
   "source": [
    "print(data.columns.to_list())"
   ]
  },
  {
   "cell_type": "code",
   "execution_count": 6,
   "metadata": {},
   "outputs": [
    {
     "data": {
      "text/html": [
       "<div>\n",
       "<style scoped>\n",
       "    .dataframe tbody tr th:only-of-type {\n",
       "        vertical-align: middle;\n",
       "    }\n",
       "\n",
       "    .dataframe tbody tr th {\n",
       "        vertical-align: top;\n",
       "    }\n",
       "\n",
       "    .dataframe thead th {\n",
       "        text-align: right;\n",
       "    }\n",
       "</style>\n",
       "<table border=\"1\" class=\"dataframe\">\n",
       "  <thead>\n",
       "    <tr style=\"text-align: right;\">\n",
       "      <th></th>\n",
       "      <th>Unnamed: 0</th>\n",
       "      <th>eventid</th>\n",
       "      <th>country</th>\n",
       "      <th>year</th>\n",
       "      <th>Population</th>\n",
       "      <th>Net migration</th>\n",
       "      <th>Births from mothers aged 15 to 19 years</th>\n",
       "      <th>Population density</th>\n",
       "    </tr>\n",
       "  </thead>\n",
       "  <tbody>\n",
       "    <tr>\n",
       "      <th>0</th>\n",
       "      <td>0</td>\n",
       "      <td>197000000001</td>\n",
       "      <td>Dominican Republic</td>\n",
       "      <td>1970</td>\n",
       "      <td>4475880.0</td>\n",
       "      <td>-13518.0</td>\n",
       "      <td>31501.00</td>\n",
       "      <td>92.6470</td>\n",
       "    </tr>\n",
       "    <tr>\n",
       "      <th>1</th>\n",
       "      <td>1</td>\n",
       "      <td>197000000002</td>\n",
       "      <td>Mexico</td>\n",
       "      <td>1970</td>\n",
       "      <td>50289304.0</td>\n",
       "      <td>-137213.0</td>\n",
       "      <td>332374.00</td>\n",
       "      <td>25.6677</td>\n",
       "    </tr>\n",
       "    <tr>\n",
       "      <th>2</th>\n",
       "      <td>2</td>\n",
       "      <td>197001000001</td>\n",
       "      <td>Philippines</td>\n",
       "      <td>1970</td>\n",
       "      <td>37435588.0</td>\n",
       "      <td>-208125.0</td>\n",
       "      <td>133018.00</td>\n",
       "      <td>124.7853</td>\n",
       "    </tr>\n",
       "    <tr>\n",
       "      <th>3</th>\n",
       "      <td>3</td>\n",
       "      <td>197001000002</td>\n",
       "      <td>Greece</td>\n",
       "      <td>1970</td>\n",
       "      <td>8544874.0</td>\n",
       "      <td>-41226.0</td>\n",
       "      <td>11687.00</td>\n",
       "      <td>65.3178</td>\n",
       "    </tr>\n",
       "    <tr>\n",
       "      <th>4</th>\n",
       "      <td>4</td>\n",
       "      <td>197001000003</td>\n",
       "      <td>Japan</td>\n",
       "      <td>1970</td>\n",
       "      <td>105416840.0</td>\n",
       "      <td>124197.0</td>\n",
       "      <td>21229.00</td>\n",
       "      <td>279.7509</td>\n",
       "    </tr>\n",
       "    <tr>\n",
       "      <th>...</th>\n",
       "      <td>...</td>\n",
       "      <td>...</td>\n",
       "      <td>...</td>\n",
       "      <td>...</td>\n",
       "      <td>...</td>\n",
       "      <td>...</td>\n",
       "      <td>...</td>\n",
       "      <td>...</td>\n",
       "    </tr>\n",
       "    <tr>\n",
       "      <th>209701</th>\n",
       "      <td>209701</td>\n",
       "      <td>202012310015</td>\n",
       "      <td>Yemen</td>\n",
       "      <td>2020</td>\n",
       "      <td>32284044.0</td>\n",
       "      <td>-86100.0</td>\n",
       "      <td>95767.00</td>\n",
       "      <td>61.1475</td>\n",
       "    </tr>\n",
       "    <tr>\n",
       "      <th>209702</th>\n",
       "      <td>209702</td>\n",
       "      <td>202012310016</td>\n",
       "      <td>Yemen</td>\n",
       "      <td>2020</td>\n",
       "      <td>32284044.0</td>\n",
       "      <td>-86100.0</td>\n",
       "      <td>95767.00</td>\n",
       "      <td>61.1475</td>\n",
       "    </tr>\n",
       "    <tr>\n",
       "      <th>209703</th>\n",
       "      <td>209703</td>\n",
       "      <td>202012310017</td>\n",
       "      <td>Germany</td>\n",
       "      <td>2020</td>\n",
       "      <td>83328990.0</td>\n",
       "      <td>334055.0</td>\n",
       "      <td>13881.00</td>\n",
       "      <td>239.0664</td>\n",
       "    </tr>\n",
       "    <tr>\n",
       "      <th>209704</th>\n",
       "      <td>209704</td>\n",
       "      <td>202012310018</td>\n",
       "      <td>Afghanistan</td>\n",
       "      <td>2020</td>\n",
       "      <td>38972236.0</td>\n",
       "      <td>166821.0</td>\n",
       "      <td>188016.00</td>\n",
       "      <td>60.0223</td>\n",
       "    </tr>\n",
       "    <tr>\n",
       "      <th>209705</th>\n",
       "      <td>209705</td>\n",
       "      <td>202012310019</td>\n",
       "      <td>Burkina Faso</td>\n",
       "      <td>2020</td>\n",
       "      <td>21522632.0</td>\n",
       "      <td>-5665.0</td>\n",
       "      <td>128285.99</td>\n",
       "      <td>78.6646</td>\n",
       "    </tr>\n",
       "  </tbody>\n",
       "</table>\n",
       "<p>209706 rows × 8 columns</p>\n",
       "</div>"
      ],
      "text/plain": [
       "        Unnamed: 0       eventid             country  year   Population  \\\n",
       "0                0  197000000001  Dominican Republic  1970    4475880.0   \n",
       "1                1  197000000002              Mexico  1970   50289304.0   \n",
       "2                2  197001000001         Philippines  1970   37435588.0   \n",
       "3                3  197001000002              Greece  1970    8544874.0   \n",
       "4                4  197001000003               Japan  1970  105416840.0   \n",
       "...            ...           ...                 ...   ...          ...   \n",
       "209701      209701  202012310015               Yemen  2020   32284044.0   \n",
       "209702      209702  202012310016               Yemen  2020   32284044.0   \n",
       "209703      209703  202012310017             Germany  2020   83328990.0   \n",
       "209704      209704  202012310018         Afghanistan  2020   38972236.0   \n",
       "209705      209705  202012310019        Burkina Faso  2020   21522632.0   \n",
       "\n",
       "        Net migration  Births from mothers aged 15 to 19 years  \\\n",
       "0            -13518.0                                 31501.00   \n",
       "1           -137213.0                                332374.00   \n",
       "2           -208125.0                                133018.00   \n",
       "3            -41226.0                                 11687.00   \n",
       "4            124197.0                                 21229.00   \n",
       "...               ...                                      ...   \n",
       "209701       -86100.0                                 95767.00   \n",
       "209702       -86100.0                                 95767.00   \n",
       "209703       334055.0                                 13881.00   \n",
       "209704       166821.0                                188016.00   \n",
       "209705        -5665.0                                128285.99   \n",
       "\n",
       "        Population density  \n",
       "0                  92.6470  \n",
       "1                  25.6677  \n",
       "2                 124.7853  \n",
       "3                  65.3178  \n",
       "4                 279.7509  \n",
       "...                    ...  \n",
       "209701             61.1475  \n",
       "209702             61.1475  \n",
       "209703            239.0664  \n",
       "209704             60.0223  \n",
       "209705             78.6646  \n",
       "\n",
       "[209706 rows x 8 columns]"
      ]
     },
     "execution_count": 6,
     "metadata": {},
     "output_type": "execute_result"
    }
   ],
   "source": [
    "demogra"
   ]
  },
  {
   "cell_type": "code",
   "execution_count": 7,
   "metadata": {},
   "outputs": [],
   "source": [
    "# Specify the added feature column names you want to merge from vdem_df\n",
    "\n",
    "features_to_merge = ['Population','Net migration','Births from mothers aged 15 to 19 years','Population density']  # Replace these with your actual feature column names\n",
    "\n",
    "# Adjust the merge to include only the specified added features along with the keys for merging\n",
    "merged_df = pd.merge(data, demogra[['eventid']+ features_to_merge],\n",
    "                     left_on=['eventid'],\n",
    "                     right_on=['eventid'],\n",
    "                     how='left')\n",
    "\n",
    "#merged_df.drop(['eventid'], axis=1, inplace=True)\n"
   ]
  },
  {
   "cell_type": "code",
   "execution_count": 8,
   "metadata": {},
   "outputs": [],
   "source": [
    "merged_df.drop(columns='Unnamed: 0',axis=1,inplace=True)"
   ]
  },
  {
   "cell_type": "code",
   "execution_count": 9,
   "metadata": {},
   "outputs": [
    {
     "name": "stdout",
     "output_type": "stream",
     "text": [
      "['att_Armed Assault', 'att_Assassination', 'att_Bombing/Explosion', 'att_Facility/Infrastructure Attack', 'att_Hijacking', 'att_Hostage Taking (Barricade Incident)', 'att_Hostage Taking (Kidnapping)', 'att_Unarmed Assault', 'weap_Biological', 'weap_Chemical', 'weap_Explosives', 'weap_Fake Weapons', 'weap_Firearms', 'weap_Incendiary', 'weap_Melee', 'weap_Other', 'weap_Radiological', 'weap_Sabotage Equipment', 'weap_Vehicle (not to include vehicle-borne explosives, i.e., car or truck bombs)', 'targ_Abortion Related', 'targ_Airports & Aircraft', 'targ_Business', 'targ_Educational Institution', 'targ_Food or Water Supply', 'targ_Government (Diplomatic)', 'targ_Government (General)', 'targ_Journalists & Media', 'targ_Maritime', 'targ_Military', 'targ_NGO', 'targ_Other', 'targ_Police', 'targ_Private Citizens & Property', 'targ_Religious Figures/Institutions', 'targ_Telecommunication', 'targ_Terrorists/Non-State Militia', 'targ_Tourists', 'targ_Transportation', 'targ_Utilities', 'targ_Violent Political Party', 'reg_Central America & Caribbean', 'reg_Central Asia', 'reg_East Asia', 'reg_Eastern Europe', 'reg_Middle East & North Africa', 'reg_North America', 'reg_South America', 'reg_South Asia', 'reg_Southeast Asia', 'reg_Sub-Saharan Africa', 'reg_Western Europe', 'INT_MISC', 'individual', 'multiple', 'success', 'suicide', 'eventid', 'country_txt', 'gname', 'nkill', 'motive', 'year', 'v2x_ex_military', 'v2x_clphy', 'v2x_rule', 'v2cldiscw', 'v2clacfree', 'v2clsnlpct', 'v2dlencmps', 'v2elembcap', 'v2exhoshog', 'Population', 'Net migration', 'Births from mothers aged 15 to 19 years', 'Population density']\n"
     ]
    }
   ],
   "source": [
    "print(merged_df.columns.to_list())"
   ]
  },
  {
   "cell_type": "code",
   "execution_count": 10,
   "metadata": {},
   "outputs": [],
   "source": [
    "merged_df.to_csv('final_data.csv')"
   ]
  }
 ],
 "metadata": {
  "kernelspec": {
   "display_name": "Python 3",
   "language": "python",
   "name": "python3"
  },
  "language_info": {
   "codemirror_mode": {
    "name": "ipython",
    "version": 3
   },
   "file_extension": ".py",
   "mimetype": "text/x-python",
   "name": "python",
   "nbconvert_exporter": "python",
   "pygments_lexer": "ipython3",
   "version": "3.12.2"
  }
 },
 "nbformat": 4,
 "nbformat_minor": 2
}
