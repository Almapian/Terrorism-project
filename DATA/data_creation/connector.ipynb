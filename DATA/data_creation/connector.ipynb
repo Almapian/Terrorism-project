{
 "cells": [
  {
   "cell_type": "code",
   "execution_count": 24,
   "metadata": {},
   "outputs": [],
   "source": [
    "import pandas as pd"
   ]
  },
  {
   "cell_type": "code",
   "execution_count": 25,
   "metadata": {},
   "outputs": [],
   "source": [
    "demogra = pd.read_csv('damogra.csv')"
   ]
  },
  {
   "cell_type": "code",
   "execution_count": 26,
   "metadata": {},
   "outputs": [
    {
     "name": "stdout",
     "output_type": "stream",
     "text": [
      "['Unnamed: 0', 'eventid', 'country', 'year', 'Population', 'Net migration', 'Births from mothers aged 15 to 19 years', 'Population density', 'GDP']\n"
     ]
    }
   ],
   "source": [
    "print(demogra.columns.to_list())"
   ]
  },
  {
   "cell_type": "code",
   "execution_count": 27,
   "metadata": {},
   "outputs": [],
   "source": [
    "data = pd.read_csv('t_dem.csv')"
   ]
  },
  {
   "cell_type": "code",
   "execution_count": 28,
   "metadata": {},
   "outputs": [
    {
     "name": "stdout",
     "output_type": "stream",
     "text": [
      "['Unnamed: 0', 'att_Armed Assault', 'att_Assassination', 'att_Bombing/Explosion', 'att_Facility/Infrastructure Attack', 'att_Hijacking', 'att_Hostage Taking (Kidnapping)', 'att_Unarmed Assault', 'weap_Biological', 'weap_Chemical', 'weap_Explosives', 'weap_Fake Weapons', 'weap_Firearms', 'weap_Incendiary', 'weap_Melee', 'weap_Other', 'weap_Radiological', 'weap_Vehicle (not to include vehicle-borne explosives, i.e., car or truck bombs)', 'targ_Abortion Related', 'targ_Airports & Aircraft', 'targ_Business', 'targ_Educational Institution', 'targ_Food or Water Supply', 'targ_Government (Diplomatic)', 'targ_Government (General)', 'targ_Journalists & Media', 'targ_Maritime', 'targ_Military', 'targ_NGO', 'targ_Police', 'targ_Private Citizens & Property', 'targ_Religious Figures/Institutions', 'targ_Telecommunication', 'targ_Terrorists/Non-State Militia', 'targ_Tourists', 'targ_Transportation', 'targ_Utilities', 'targ_Violent Political Party', 'reg_Central America & Caribbean', 'reg_Central Asia', 'reg_East Asia', 'reg_Eastern Europe', 'reg_Middle East & North Africa', 'reg_North America', 'reg_South America', 'reg_South Asia', 'reg_Southeast Asia', 'reg_Sub-Saharan Africa', 'reg_Western Europe', 'att2_Assassination', 'att2_Bombing/Explosion', 'att2_Facility/Infrastructure Attack', 'att2_Hijacking', 'att2_Hostage Taking (Barricade Incident)', 'att2_Hostage Taking (Kidnapping)', 'att2_Unarmed Assault', 'att2_Unknown', 'att3_Assassination', 'att3_Bombing/Explosion', 'att3_Facility/Infrastructure Attack', 'att3_Hijacking', 'att3_Hostage Taking (Barricade Incident)', 'att3_Hostage Taking (Kidnapping)', 'weap2_Chemical', 'weap2_Explosives', 'weap2_Fake Weapons', 'weap2_Firearms', 'weap2_Incendiary', 'weap2_Melee', 'weap2_Other', 'weap2_Sabotage Equipment', 'weap2_Unknown', 'weap2_Vehicle (not to include vehicle-borne explosives, i.e., car or truck bombs)', 'weap3_Explosives', 'weap3_Fake Weapons', 'weap3_Firearms', 'weap3_Incendiary', 'weap3_Melee', 'weap3_Other', 'weap3_Sabotage Equipment', 'weap3_Unknown', 'weap3_Vehicle (not to include vehicle-borne explosives, i.e., car or truck bombs)', 'weap4_Firearms', 'weap4_Incendiary', 'weap4_Melee', 'weap4_Other', 'targ2_Airports & Aircraft', 'targ2_Business', 'targ2_Educational Institution', 'targ2_Food or Water Supply', 'targ2_Government (Diplomatic)', 'targ2_Government (General)', 'targ2_Journalists & Media', 'targ2_Maritime', 'targ2_Military', 'targ2_NGO', 'targ2_Other', 'targ2_Police', 'targ2_Private Citizens & Property', 'targ2_Religious Figures/Institutions', 'targ2_Telecommunication', 'targ2_Terrorists/Non-State Militia', 'targ2_Tourists', 'targ2_Transportation', 'targ2_Unknown', 'targ2_Utilities', 'targ2_Violent Political Party', 'targ3_Business', 'targ3_Educational Institution', 'targ3_Food or Water Supply', 'targ3_Government (Diplomatic)', 'targ3_Government (General)', 'targ3_Journalists & Media', 'targ3_Maritime', 'targ3_Military', 'targ3_NGO', 'targ3_Other', 'targ3_Police', 'targ3_Private Citizens & Property', 'targ3_Religious Figures/Institutions', 'targ3_Telecommunication', 'targ3_Terrorists/Non-State Militia', 'targ3_Tourists', 'targ3_Transportation', 'targ3_Utilities', 'targ3_Violent Political Party', 'INT_MISC', 'individual', 'multiple', 'success', 'suicide', 'eventid', 'country_txt', 'gname', 'nkill', 'motive', 'vicinity', 'n_weap', 'n_att', 'n_targ', 'claimed', 'nperpcap', 'year', 'v2x_ex_military', 'v2x_clphy', 'v2x_rule', 'v2cldiscw', 'v2clacfree', 'v2dlencmps', 'v2elembcap', 'v2exhoshog']\n"
     ]
    }
   ],
   "source": [
    "print(data.columns.to_list())"
   ]
  },
  {
   "cell_type": "code",
   "execution_count": 29,
   "metadata": {},
   "outputs": [
    {
     "data": {
      "text/plain": [
       "GDP\n",
       "False    156703\n",
       "True      53003\n",
       "Name: count, dtype: int64"
      ]
     },
     "execution_count": 29,
     "metadata": {},
     "output_type": "execute_result"
    }
   ],
   "source": [
    "demogra['GDP'].isna().value_counts()"
   ]
  },
  {
   "cell_type": "code",
   "execution_count": 30,
   "metadata": {},
   "outputs": [],
   "source": [
    "piss =demogra[demogra['year']>2000]"
   ]
  },
  {
   "cell_type": "code",
   "execution_count": 31,
   "metadata": {},
   "outputs": [],
   "source": [
    "mask = piss['GDP'].isna()"
   ]
  },
  {
   "cell_type": "code",
   "execution_count": 32,
   "metadata": {},
   "outputs": [
    {
     "data": {
      "text/plain": [
       "array(['Yemen', 'Somalia', 'Afghanistan', 'Kosovo', 'Taiwan', 'Venezuela',\n",
       "       'International', 'Djibouti', 'Syria', 'Cuba', 'Western Sahara',\n",
       "       'Eritrea', 'South Sudan', 'New Caledonia', 'St. Lucia'],\n",
       "      dtype=object)"
      ]
     },
     "execution_count": 32,
     "metadata": {},
     "output_type": "execute_result"
    }
   ],
   "source": [
    "piss.loc[mask,'country'].unique()"
   ]
  },
  {
   "cell_type": "code",
   "execution_count": 33,
   "metadata": {},
   "outputs": [],
   "source": [
    "# Specify the added feature column names you want to merge from vdem_df\n",
    "\n",
    "features_to_merge = ['Population','Net migration','Births from mothers aged 15 to 19 years','Population density','GDP']  # Replace these with your actual feature column names\n",
    "\n",
    "# Adjust the merge to include only the specified added features along with the keys for merging\n",
    "merged_df = pd.merge(data, demogra[['eventid']+ features_to_merge],\n",
    "                     left_on=['eventid'],\n",
    "                     right_on=['eventid'],\n",
    "                     how='left')\n",
    "\n",
    "#merged_df.drop(['eventid'], axis=1, inplace=True)\n"
   ]
  },
  {
   "cell_type": "code",
   "execution_count": 34,
   "metadata": {},
   "outputs": [],
   "source": [
    "merged_df.drop(columns='Unnamed: 0',axis=1,inplace=True)"
   ]
  },
  {
   "cell_type": "code",
   "execution_count": 35,
   "metadata": {},
   "outputs": [
    {
     "name": "stdout",
     "output_type": "stream",
     "text": [
      "['att_Armed Assault', 'att_Assassination', 'att_Bombing/Explosion', 'att_Facility/Infrastructure Attack', 'att_Hijacking', 'att_Hostage Taking (Kidnapping)', 'att_Unarmed Assault', 'weap_Biological', 'weap_Chemical', 'weap_Explosives', 'weap_Fake Weapons', 'weap_Firearms', 'weap_Incendiary', 'weap_Melee', 'weap_Other', 'weap_Radiological', 'weap_Vehicle (not to include vehicle-borne explosives, i.e., car or truck bombs)', 'targ_Abortion Related', 'targ_Airports & Aircraft', 'targ_Business', 'targ_Educational Institution', 'targ_Food or Water Supply', 'targ_Government (Diplomatic)', 'targ_Government (General)', 'targ_Journalists & Media', 'targ_Maritime', 'targ_Military', 'targ_NGO', 'targ_Police', 'targ_Private Citizens & Property', 'targ_Religious Figures/Institutions', 'targ_Telecommunication', 'targ_Terrorists/Non-State Militia', 'targ_Tourists', 'targ_Transportation', 'targ_Utilities', 'targ_Violent Political Party', 'reg_Central America & Caribbean', 'reg_Central Asia', 'reg_East Asia', 'reg_Eastern Europe', 'reg_Middle East & North Africa', 'reg_North America', 'reg_South America', 'reg_South Asia', 'reg_Southeast Asia', 'reg_Sub-Saharan Africa', 'reg_Western Europe', 'att2_Assassination', 'att2_Bombing/Explosion', 'att2_Facility/Infrastructure Attack', 'att2_Hijacking', 'att2_Hostage Taking (Barricade Incident)', 'att2_Hostage Taking (Kidnapping)', 'att2_Unarmed Assault', 'att2_Unknown', 'att3_Assassination', 'att3_Bombing/Explosion', 'att3_Facility/Infrastructure Attack', 'att3_Hijacking', 'att3_Hostage Taking (Barricade Incident)', 'att3_Hostage Taking (Kidnapping)', 'weap2_Chemical', 'weap2_Explosives', 'weap2_Fake Weapons', 'weap2_Firearms', 'weap2_Incendiary', 'weap2_Melee', 'weap2_Other', 'weap2_Sabotage Equipment', 'weap2_Unknown', 'weap2_Vehicle (not to include vehicle-borne explosives, i.e., car or truck bombs)', 'weap3_Explosives', 'weap3_Fake Weapons', 'weap3_Firearms', 'weap3_Incendiary', 'weap3_Melee', 'weap3_Other', 'weap3_Sabotage Equipment', 'weap3_Unknown', 'weap3_Vehicle (not to include vehicle-borne explosives, i.e., car or truck bombs)', 'weap4_Firearms', 'weap4_Incendiary', 'weap4_Melee', 'weap4_Other', 'targ2_Airports & Aircraft', 'targ2_Business', 'targ2_Educational Institution', 'targ2_Food or Water Supply', 'targ2_Government (Diplomatic)', 'targ2_Government (General)', 'targ2_Journalists & Media', 'targ2_Maritime', 'targ2_Military', 'targ2_NGO', 'targ2_Other', 'targ2_Police', 'targ2_Private Citizens & Property', 'targ2_Religious Figures/Institutions', 'targ2_Telecommunication', 'targ2_Terrorists/Non-State Militia', 'targ2_Tourists', 'targ2_Transportation', 'targ2_Unknown', 'targ2_Utilities', 'targ2_Violent Political Party', 'targ3_Business', 'targ3_Educational Institution', 'targ3_Food or Water Supply', 'targ3_Government (Diplomatic)', 'targ3_Government (General)', 'targ3_Journalists & Media', 'targ3_Maritime', 'targ3_Military', 'targ3_NGO', 'targ3_Other', 'targ3_Police', 'targ3_Private Citizens & Property', 'targ3_Religious Figures/Institutions', 'targ3_Telecommunication', 'targ3_Terrorists/Non-State Militia', 'targ3_Tourists', 'targ3_Transportation', 'targ3_Utilities', 'targ3_Violent Political Party', 'INT_MISC', 'individual', 'multiple', 'success', 'suicide', 'eventid', 'country_txt', 'gname', 'nkill', 'motive', 'vicinity', 'n_weap', 'n_att', 'n_targ', 'claimed', 'nperpcap', 'year', 'v2x_ex_military', 'v2x_clphy', 'v2x_rule', 'v2cldiscw', 'v2clacfree', 'v2dlencmps', 'v2elembcap', 'v2exhoshog', 'Population', 'Net migration', 'Births from mothers aged 15 to 19 years', 'Population density', 'GDP']\n"
     ]
    }
   ],
   "source": [
    "print(merged_df.columns.to_list())"
   ]
  },
  {
   "cell_type": "code",
   "execution_count": 36,
   "metadata": {},
   "outputs": [],
   "source": [
    "merged_df.to_csv('final_data.csv')"
   ]
  }
 ],
 "metadata": {
  "kernelspec": {
   "display_name": "Python 3",
   "language": "python",
   "name": "python3"
  },
  "language_info": {
   "codemirror_mode": {
    "name": "ipython",
    "version": 3
   },
   "file_extension": ".py",
   "mimetype": "text/x-python",
   "name": "python",
   "nbconvert_exporter": "python",
   "pygments_lexer": "ipython3",
   "version": "3.12.2"
  }
 },
 "nbformat": 4,
 "nbformat_minor": 2
}
