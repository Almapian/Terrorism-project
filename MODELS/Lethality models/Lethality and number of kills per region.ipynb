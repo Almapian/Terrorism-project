{
 "cells": [
  {
   "cell_type": "code",
   "execution_count": 1,
   "id": "0047967c",
   "metadata": {},
   "outputs": [],
   "source": [
    "import os\n",
    "\n",
    "# Change the current working directory\n",
    "os.chdir(r\"C:\\Users\\alfat\\Downloads\\CSSci Semester 4\\code\\CSSci Semester 4 datasets\\2.START_Data_GTD\\GTD\")"
   ]
  },
  {
   "cell_type": "code",
   "execution_count": 2,
   "id": "a20bc794",
   "metadata": {},
   "outputs": [],
   "source": [
    "import pandas as pd\n",
    "\n",
    "# load the global terrorism dataset\n",
    "df = pd.read_excel('globalterrorismdb_0522dist.xlsx')"
   ]
  },
  {
   "cell_type": "code",
   "execution_count": 3,
   "id": "6f562655",
   "metadata": {},
   "outputs": [],
   "source": [
    "df = df.dropna(subset='nkill')"
   ]
  },
  {
   "cell_type": "code",
   "execution_count": 4,
   "id": "3e3875f9",
   "metadata": {},
   "outputs": [],
   "source": [
    "df['letal'] = df['nkill'].apply(lambda x:1 if x !=0 else 0)"
   ]
  },
  {
   "cell_type": "code",
   "execution_count": 5,
   "id": "f224123c",
   "metadata": {},
   "outputs": [],
   "source": [
    "rqmask = df['country_txt'] == 'Iraq'\n",
    "smmask = df['country_txt'] == 'Somalia'\n",
    "symask = df['country_txt'] == 'Syria'\n",
    "yemask = df['country_txt'] == 'Yemen'\n",
    "\n",
    "# Combine the masks with an 'or' condition\n",
    "mask_to_drop = rqmask | smmask | symask | yemask\n",
    "\n",
    "# Use the negation of the combined mask to keep rows where the mask is False\n",
    "df = df[~mask_to_drop]"
   ]
  },
  {
   "cell_type": "code",
   "execution_count": 9,
   "id": "f883657a",
   "metadata": {},
   "outputs": [],
   "source": [
    "df=df[df['iyear']>=2000]"
   ]
  },
  {
   "cell_type": "code",
   "execution_count": 10,
   "id": "40549c90",
   "metadata": {},
   "outputs": [
    {
     "data": {
      "text/html": [
       "<div>\n",
       "<style scoped>\n",
       "    .dataframe tbody tr th:only-of-type {\n",
       "        vertical-align: middle;\n",
       "    }\n",
       "\n",
       "    .dataframe tbody tr th {\n",
       "        vertical-align: top;\n",
       "    }\n",
       "\n",
       "    .dataframe thead th {\n",
       "        text-align: right;\n",
       "    }\n",
       "</style>\n",
       "<table border=\"1\" class=\"dataframe\">\n",
       "  <thead>\n",
       "    <tr style=\"text-align: right;\">\n",
       "      <th></th>\n",
       "      <th>eventid</th>\n",
       "      <th>iyear</th>\n",
       "      <th>imonth</th>\n",
       "      <th>iday</th>\n",
       "      <th>approxdate</th>\n",
       "      <th>extended</th>\n",
       "      <th>resolution</th>\n",
       "      <th>country</th>\n",
       "      <th>country_txt</th>\n",
       "      <th>region</th>\n",
       "      <th>...</th>\n",
       "      <th>scite1</th>\n",
       "      <th>scite2</th>\n",
       "      <th>scite3</th>\n",
       "      <th>dbsource</th>\n",
       "      <th>INT_LOG</th>\n",
       "      <th>INT_IDEO</th>\n",
       "      <th>INT_MISC</th>\n",
       "      <th>INT_ANY</th>\n",
       "      <th>related</th>\n",
       "      <th>letal</th>\n",
       "    </tr>\n",
       "  </thead>\n",
       "  <tbody>\n",
       "    <tr>\n",
       "      <th>69833</th>\n",
       "      <td>200001010001</td>\n",
       "      <td>2000</td>\n",
       "      <td>1</td>\n",
       "      <td>1</td>\n",
       "      <td>NaN</td>\n",
       "      <td>0</td>\n",
       "      <td>NaT</td>\n",
       "      <td>139</td>\n",
       "      <td>Namibia</td>\n",
       "      <td>11</td>\n",
       "      <td>...</td>\n",
       "      <td>“Namibia: UNITA Rebels Reportedly Abduct 20 Vi...</td>\n",
       "      <td>“Namibia: 4 Injured in Shootout; UNITA 'Bandit...</td>\n",
       "      <td>“Abducted Namibians Reportedly Still Held by U...</td>\n",
       "      <td>CETIS</td>\n",
       "      <td>1</td>\n",
       "      <td>1</td>\n",
       "      <td>0</td>\n",
       "      <td>1</td>\n",
       "      <td>200001010001, 200001010002</td>\n",
       "      <td>0</td>\n",
       "    </tr>\n",
       "    <tr>\n",
       "      <th>69834</th>\n",
       "      <td>200001010002</td>\n",
       "      <td>2000</td>\n",
       "      <td>1</td>\n",
       "      <td>1</td>\n",
       "      <td>NaN</td>\n",
       "      <td>1</td>\n",
       "      <td>NaT</td>\n",
       "      <td>139</td>\n",
       "      <td>Namibia</td>\n",
       "      <td>11</td>\n",
       "      <td>...</td>\n",
       "      <td>“Namibia: UNITA Rebels Reportedly Abduct 20 Vi...</td>\n",
       "      <td>“Namibia: 4 Injured in Shootout; UNITA 'Bandit...</td>\n",
       "      <td>“Abducted Namibians Reportedly Still Held by U...</td>\n",
       "      <td>CETIS</td>\n",
       "      <td>1</td>\n",
       "      <td>1</td>\n",
       "      <td>0</td>\n",
       "      <td>1</td>\n",
       "      <td>200001010001, 200001010002</td>\n",
       "      <td>0</td>\n",
       "    </tr>\n",
       "    <tr>\n",
       "      <th>69835</th>\n",
       "      <td>200001010003</td>\n",
       "      <td>2000</td>\n",
       "      <td>1</td>\n",
       "      <td>1</td>\n",
       "      <td>NaN</td>\n",
       "      <td>0</td>\n",
       "      <td>NaT</td>\n",
       "      <td>92</td>\n",
       "      <td>India</td>\n",
       "      <td>6</td>\n",
       "      <td>...</td>\n",
       "      <td>“Lashkar 'Suicide' Squad Attacks Army Camp in ...</td>\n",
       "      <td>NaN</td>\n",
       "      <td>NaN</td>\n",
       "      <td>CETIS</td>\n",
       "      <td>1</td>\n",
       "      <td>1</td>\n",
       "      <td>0</td>\n",
       "      <td>1</td>\n",
       "      <td>NaN</td>\n",
       "      <td>1</td>\n",
       "    </tr>\n",
       "    <tr>\n",
       "      <th>69836</th>\n",
       "      <td>200001010004</td>\n",
       "      <td>2000</td>\n",
       "      <td>1</td>\n",
       "      <td>1</td>\n",
       "      <td>NaN</td>\n",
       "      <td>0</td>\n",
       "      <td>NaT</td>\n",
       "      <td>1003</td>\n",
       "      <td>Kosovo</td>\n",
       "      <td>9</td>\n",
       "      <td>...</td>\n",
       "      <td>“Kosovo: Romany Home Attacked, 1 Person Injure...</td>\n",
       "      <td>NaN</td>\n",
       "      <td>NaN</td>\n",
       "      <td>CETIS</td>\n",
       "      <td>-9</td>\n",
       "      <td>-9</td>\n",
       "      <td>1</td>\n",
       "      <td>1</td>\n",
       "      <td>NaN</td>\n",
       "      <td>0</td>\n",
       "    </tr>\n",
       "    <tr>\n",
       "      <th>69839</th>\n",
       "      <td>200001010007</td>\n",
       "      <td>2000</td>\n",
       "      <td>1</td>\n",
       "      <td>1</td>\n",
       "      <td>NaN</td>\n",
       "      <td>0</td>\n",
       "      <td>NaT</td>\n",
       "      <td>92</td>\n",
       "      <td>India</td>\n",
       "      <td>6</td>\n",
       "      <td>...</td>\n",
       "      <td>“India: ULFA Militants Blow Up Oil Pipeline in...</td>\n",
       "      <td>NaN</td>\n",
       "      <td>NaN</td>\n",
       "      <td>CETIS</td>\n",
       "      <td>0</td>\n",
       "      <td>0</td>\n",
       "      <td>0</td>\n",
       "      <td>0</td>\n",
       "      <td>NaN</td>\n",
       "      <td>0</td>\n",
       "    </tr>\n",
       "    <tr>\n",
       "      <th>...</th>\n",
       "      <td>...</td>\n",
       "      <td>...</td>\n",
       "      <td>...</td>\n",
       "      <td>...</td>\n",
       "      <td>...</td>\n",
       "      <td>...</td>\n",
       "      <td>...</td>\n",
       "      <td>...</td>\n",
       "      <td>...</td>\n",
       "      <td>...</td>\n",
       "      <td>...</td>\n",
       "      <td>...</td>\n",
       "      <td>...</td>\n",
       "      <td>...</td>\n",
       "      <td>...</td>\n",
       "      <td>...</td>\n",
       "      <td>...</td>\n",
       "      <td>...</td>\n",
       "      <td>...</td>\n",
       "      <td>...</td>\n",
       "      <td>...</td>\n",
       "    </tr>\n",
       "    <tr>\n",
       "      <th>209698</th>\n",
       "      <td>202012310012</td>\n",
       "      <td>2020</td>\n",
       "      <td>12</td>\n",
       "      <td>31</td>\n",
       "      <td>NaN</td>\n",
       "      <td>1</td>\n",
       "      <td>NaT</td>\n",
       "      <td>229</td>\n",
       "      <td>Democratic Republic of the Congo</td>\n",
       "      <td>11</td>\n",
       "      <td>...</td>\n",
       "      <td>\"At least 25 farmers ‘killed by ADF rebels’ in...</td>\n",
       "      <td>\"26 civilians killed by rebels in eastern Cong...</td>\n",
       "      <td>\"At least 25 killed in east DR Congo, ADF mili...</td>\n",
       "      <td>START Primary Collection</td>\n",
       "      <td>0</td>\n",
       "      <td>1</td>\n",
       "      <td>0</td>\n",
       "      <td>1</td>\n",
       "      <td>NaN</td>\n",
       "      <td>1</td>\n",
       "    </tr>\n",
       "    <tr>\n",
       "      <th>209700</th>\n",
       "      <td>202012310014</td>\n",
       "      <td>2020</td>\n",
       "      <td>12</td>\n",
       "      <td>31</td>\n",
       "      <td>NaN</td>\n",
       "      <td>0</td>\n",
       "      <td>NaT</td>\n",
       "      <td>141</td>\n",
       "      <td>Nepal</td>\n",
       "      <td>6</td>\n",
       "      <td>...</td>\n",
       "      <td>\"Govt vehicle torched in Jajarkot,\" Khabar Hub...</td>\n",
       "      <td>NaN</td>\n",
       "      <td>NaN</td>\n",
       "      <td>START Primary Collection</td>\n",
       "      <td>-9</td>\n",
       "      <td>-9</td>\n",
       "      <td>0</td>\n",
       "      <td>-9</td>\n",
       "      <td>NaN</td>\n",
       "      <td>0</td>\n",
       "    </tr>\n",
       "    <tr>\n",
       "      <th>209703</th>\n",
       "      <td>202012310017</td>\n",
       "      <td>2020</td>\n",
       "      <td>12</td>\n",
       "      <td>31</td>\n",
       "      <td>NaN</td>\n",
       "      <td>0</td>\n",
       "      <td>NaT</td>\n",
       "      <td>75</td>\n",
       "      <td>Germany</td>\n",
       "      <td>8</td>\n",
       "      <td>...</td>\n",
       "      <td>\"Far-left arson attack suspected on German asy...</td>\n",
       "      <td>\"Fire of Bundeswehr vehicles in Leipzig, proba...</td>\n",
       "      <td>\"Anarchist Antifa Take Credit for Arson Attack...</td>\n",
       "      <td>START Primary Collection</td>\n",
       "      <td>-9</td>\n",
       "      <td>-9</td>\n",
       "      <td>0</td>\n",
       "      <td>-9</td>\n",
       "      <td>NaN</td>\n",
       "      <td>0</td>\n",
       "    </tr>\n",
       "    <tr>\n",
       "      <th>209704</th>\n",
       "      <td>202012310018</td>\n",
       "      <td>2020</td>\n",
       "      <td>12</td>\n",
       "      <td>31</td>\n",
       "      <td>NaN</td>\n",
       "      <td>0</td>\n",
       "      <td>NaT</td>\n",
       "      <td>4</td>\n",
       "      <td>Afghanistan</td>\n",
       "      <td>6</td>\n",
       "      <td>...</td>\n",
       "      <td>\"Civil society activist and tribal elder kille...</td>\n",
       "      <td>\"Terrorism Digest: 1-2 Jan 21,\" BBC Monitoring...</td>\n",
       "      <td>NaN</td>\n",
       "      <td>START Primary Collection</td>\n",
       "      <td>-9</td>\n",
       "      <td>-9</td>\n",
       "      <td>0</td>\n",
       "      <td>-9</td>\n",
       "      <td>NaN</td>\n",
       "      <td>1</td>\n",
       "    </tr>\n",
       "    <tr>\n",
       "      <th>209705</th>\n",
       "      <td>202012310019</td>\n",
       "      <td>2020</td>\n",
       "      <td>12</td>\n",
       "      <td>31</td>\n",
       "      <td>NaN</td>\n",
       "      <td>1</td>\n",
       "      <td>NaT</td>\n",
       "      <td>33</td>\n",
       "      <td>Burkina Faso</td>\n",
       "      <td>11</td>\n",
       "      <td>...</td>\n",
       "      <td>\"Terrorism Digest: 3-4 Jan 21,\" BBC Monitoring...</td>\n",
       "      <td>NaN</td>\n",
       "      <td>NaN</td>\n",
       "      <td>START Primary Collection</td>\n",
       "      <td>-9</td>\n",
       "      <td>-9</td>\n",
       "      <td>0</td>\n",
       "      <td>-9</td>\n",
       "      <td>NaN</td>\n",
       "      <td>1</td>\n",
       "    </tr>\n",
       "  </tbody>\n",
       "</table>\n",
       "<p>95126 rows × 136 columns</p>\n",
       "</div>"
      ],
      "text/plain": [
       "             eventid  iyear  imonth  iday approxdate  extended resolution  \\\n",
       "69833   200001010001   2000       1     1        NaN         0        NaT   \n",
       "69834   200001010002   2000       1     1        NaN         1        NaT   \n",
       "69835   200001010003   2000       1     1        NaN         0        NaT   \n",
       "69836   200001010004   2000       1     1        NaN         0        NaT   \n",
       "69839   200001010007   2000       1     1        NaN         0        NaT   \n",
       "...              ...    ...     ...   ...        ...       ...        ...   \n",
       "209698  202012310012   2020      12    31        NaN         1        NaT   \n",
       "209700  202012310014   2020      12    31        NaN         0        NaT   \n",
       "209703  202012310017   2020      12    31        NaN         0        NaT   \n",
       "209704  202012310018   2020      12    31        NaN         0        NaT   \n",
       "209705  202012310019   2020      12    31        NaN         1        NaT   \n",
       "\n",
       "        country                       country_txt  region  ...  \\\n",
       "69833       139                           Namibia      11  ...   \n",
       "69834       139                           Namibia      11  ...   \n",
       "69835        92                             India       6  ...   \n",
       "69836      1003                            Kosovo       9  ...   \n",
       "69839        92                             India       6  ...   \n",
       "...         ...                               ...     ...  ...   \n",
       "209698      229  Democratic Republic of the Congo      11  ...   \n",
       "209700      141                             Nepal       6  ...   \n",
       "209703       75                           Germany       8  ...   \n",
       "209704        4                       Afghanistan       6  ...   \n",
       "209705       33                      Burkina Faso      11  ...   \n",
       "\n",
       "                                                   scite1  \\\n",
       "69833   “Namibia: UNITA Rebels Reportedly Abduct 20 Vi...   \n",
       "69834   “Namibia: UNITA Rebels Reportedly Abduct 20 Vi...   \n",
       "69835   “Lashkar 'Suicide' Squad Attacks Army Camp in ...   \n",
       "69836   “Kosovo: Romany Home Attacked, 1 Person Injure...   \n",
       "69839   “India: ULFA Militants Blow Up Oil Pipeline in...   \n",
       "...                                                   ...   \n",
       "209698  \"At least 25 farmers ‘killed by ADF rebels’ in...   \n",
       "209700  \"Govt vehicle torched in Jajarkot,\" Khabar Hub...   \n",
       "209703  \"Far-left arson attack suspected on German asy...   \n",
       "209704  \"Civil society activist and tribal elder kille...   \n",
       "209705  \"Terrorism Digest: 3-4 Jan 21,\" BBC Monitoring...   \n",
       "\n",
       "                                                   scite2  \\\n",
       "69833   “Namibia: 4 Injured in Shootout; UNITA 'Bandit...   \n",
       "69834   “Namibia: 4 Injured in Shootout; UNITA 'Bandit...   \n",
       "69835                                                 NaN   \n",
       "69836                                                 NaN   \n",
       "69839                                                 NaN   \n",
       "...                                                   ...   \n",
       "209698  \"26 civilians killed by rebels in eastern Cong...   \n",
       "209700                                                NaN   \n",
       "209703  \"Fire of Bundeswehr vehicles in Leipzig, proba...   \n",
       "209704  \"Terrorism Digest: 1-2 Jan 21,\" BBC Monitoring...   \n",
       "209705                                                NaN   \n",
       "\n",
       "                                                   scite3  \\\n",
       "69833   “Abducted Namibians Reportedly Still Held by U...   \n",
       "69834   “Abducted Namibians Reportedly Still Held by U...   \n",
       "69835                                                 NaN   \n",
       "69836                                                 NaN   \n",
       "69839                                                 NaN   \n",
       "...                                                   ...   \n",
       "209698  \"At least 25 killed in east DR Congo, ADF mili...   \n",
       "209700                                                NaN   \n",
       "209703  \"Anarchist Antifa Take Credit for Arson Attack...   \n",
       "209704                                                NaN   \n",
       "209705                                                NaN   \n",
       "\n",
       "                        dbsource  INT_LOG  INT_IDEO  INT_MISC INT_ANY  \\\n",
       "69833                      CETIS        1         1         0       1   \n",
       "69834                      CETIS        1         1         0       1   \n",
       "69835                      CETIS        1         1         0       1   \n",
       "69836                      CETIS       -9        -9         1       1   \n",
       "69839                      CETIS        0         0         0       0   \n",
       "...                          ...      ...       ...       ...     ...   \n",
       "209698  START Primary Collection        0         1         0       1   \n",
       "209700  START Primary Collection       -9        -9         0      -9   \n",
       "209703  START Primary Collection       -9        -9         0      -9   \n",
       "209704  START Primary Collection       -9        -9         0      -9   \n",
       "209705  START Primary Collection       -9        -9         0      -9   \n",
       "\n",
       "                           related  letal  \n",
       "69833   200001010001, 200001010002      0  \n",
       "69834   200001010001, 200001010002      0  \n",
       "69835                          NaN      1  \n",
       "69836                          NaN      0  \n",
       "69839                          NaN      0  \n",
       "...                            ...    ...  \n",
       "209698                         NaN      1  \n",
       "209700                         NaN      0  \n",
       "209703                         NaN      0  \n",
       "209704                         NaN      1  \n",
       "209705                         NaN      1  \n",
       "\n",
       "[95126 rows x 136 columns]"
      ]
     },
     "execution_count": 10,
     "metadata": {},
     "output_type": "execute_result"
    }
   ],
   "source": [
    "df"
   ]
  },
  {
   "cell_type": "code",
   "execution_count": 11,
   "id": "7b1f7da5",
   "metadata": {},
   "outputs": [
    {
     "name": "stdout",
     "output_type": "stream",
     "text": [
      "0    48594\n",
      "1    46532\n",
      "Name: letal, dtype: int64\n"
     ]
    }
   ],
   "source": [
    "letal_counts = df['letal'].value_counts()\n",
    "print(letal_counts)"
   ]
  },
  {
   "cell_type": "code",
   "execution_count": 13,
   "id": "d299a04f",
   "metadata": {},
   "outputs": [
    {
     "name": "stdout",
     "output_type": "stream",
     "text": [
      "0.0      48594\n",
      "1.0      20194\n",
      "2.0       8069\n",
      "3.0       4524\n",
      "4.0       2918\n",
      "         ...  \n",
      "122.0        1\n",
      "180.0        1\n",
      "158.0        1\n",
      "117.0        1\n",
      "222.0        1\n",
      "Name: nkill, Length: 162, dtype: int64\n"
     ]
    }
   ],
   "source": [
    "nkill_counts = df['nkill'].value_counts()\n",
    "print(nkill_counts)"
   ]
  },
  {
   "cell_type": "code",
   "execution_count": 18,
   "id": "37ee2046",
   "metadata": {},
   "outputs": [
    {
     "data": {
      "image/png": "[encoded data removed]",
      "text/plain": [
       "<Figure size 1296x720 with 1 Axes>"
      ]
     },
     "metadata": {
      "needs_background": "light"
     },
     "output_type": "display_data"
    }
   ],
   "source": [
    "import seaborn as sns\n",
    "import matplotlib.pyplot as plt\n",
    "\n",
    "# Set the figure size\n",
    "plt.figure(figsize=(18, 10)) \n",
    "sns.boxplot(x='region', y='nkill', showmeans=True, data=df)\n",
    "plt.xticks(rotation=45) # Rotate x-axis labels if needed\n",
    "plt.title('Distribution of Kills per Region')\n",
    "plt.show()"
   ]
  },
  {
   "cell_type": "code",
   "execution_count": 17,
   "id": "143612cb",
   "metadata": {
    "scrolled": false
   },
   "outputs": [
    {
     "data": {
      "image/png": "[encoded data removed]",
      "text/plain": [
       "<Figure size 432x288 with 1 Axes>"
      ]
     },
     "metadata": {
      "needs_background": "light"
     },
     "output_type": "display_data"
    },
    {
     "data": {
      "image/png": "[encoded data removed]",
      "text/plain": [
       "<Figure size 432x288 with 1 Axes>"
      ]
     },
     "metadata": {
      "needs_background": "light"
     },
     "output_type": "display_data"
    },
    {
     "data": {
      "image/png": "[encoded data removed]",
      "text/plain": [
       "<Figure size 432x288 with 1 Axes>"
      ]
     },
     "metadata": {
      "needs_background": "light"
     },
     "output_type": "display_data"
    },
    {
     "data": {
      "image/png": "[encoded data removed]",
      "text/plain": [
       "<Figure size 432x288 with 1 Axes>"
      ]
     },
     "metadata": {
      "needs_background": "light"
     },
     "output_type": "display_data"
    },
    {
     "data": {
      "image/png": "[encoded data removed]",
      "text/plain": [
       "<Figure size 432x288 with 1 Axes>"
      ]
     },
     "metadata": {
      "needs_background": "light"
     },
     "output_type": "display_data"
    },
    {
     "data": {
      "image/png": "[encoded data removed]",
      "text/plain": [
       "<Figure size 432x288 with 1 Axes>"
      ]
     },
     "metadata": {
      "needs_background": "light"
     },
     "output_type": "display_data"
    },
    {
     "data": {
      "image/png": "[encoded data removed]",
      "text/plain": [
       "<Figure size 432x288 with 1 Axes>"
      ]
     },
     "metadata": {
      "needs_background": "light"
     },
     "output_type": "display_data"
    },
    {
     "data": {
      "image/png": "[encoded data removed]",
      "text/plain": [
       "<Figure size 432x288 with 1 Axes>"
      ]
     },
     "metadata": {
      "needs_background": "light"
     },
     "output_type": "display_data"
    },
    {
     "data": {
      "image/png": "[encoded data removed]",
      "text/plain": [
       "<Figure size 432x288 with 1 Axes>"
      ]
     },
     "metadata": {
      "needs_background": "light"
     },
     "output_type": "display_data"
    },
    {
     "data": {
      "image/png": "[encoded data removed]",
      "text/plain": [
       "<Figure size 432x288 with 1 Axes>"
      ]
     },
     "metadata": {
      "needs_background": "light"
     },
     "output_type": "display_data"
    },
    {
     "data": {
      "image/png": "[encoded data removed]",
      "text/plain": [
       "<Figure size 432x288 with 1 Axes>"
      ]
     },
     "metadata": {
      "needs_background": "light"
     },
     "output_type": "display_data"
    },
    {
     "data": {
      "image/png": "[encoded data removed]",
      "text/plain": [
       "<Figure size 432x288 with 1 Axes>"
      ]
     },
     "metadata": {
      "needs_background": "light"
     },
     "output_type": "display_data"
    }
   ],
   "source": [
    "import matplotlib.pyplot as plt\n",
    "\n",
    "# Bar charts for lethality per region\n",
    "for region in range(1, 13):  \n",
    "    region_df = df.loc[df['region'] == region]\n",
    "    lethal_counts = region_df['letal'].value_counts()\n",
    "\n",
    "    plt.figure()\n",
    "    lethal_counts.plot(kind='bar', color=['lightblue', 'lightcoral'])\n",
    "    plt.title(f'Lethality Distribution (Region: {region})')\n",
    "    plt.xlabel('Lethal')\n",
    "    plt.ylabel('Count')\n",
    "    plt.xticks([0, 1], ['Non-Lethal', 'Lethal'])\n",
    "    plt.show()\n"
   ]
  },
  {
   "cell_type": "markdown",
   "id": "c5529310",
   "metadata": {},
   "source": [
    "region 1 - North America"
   ]
  },
  {
   "cell_type": "markdown",
   "id": "9bd85c97",
   "metadata": {},
   "source": [
    "region 2 - Central America & Carribean"
   ]
  },
  {
   "cell_type": "markdown",
   "id": "8c04371d",
   "metadata": {},
   "source": [
    "region 3 - South America"
   ]
  },
  {
   "cell_type": "markdown",
   "id": "4d8dee60",
   "metadata": {},
   "source": [
    "region 4 - East Asia"
   ]
  },
  {
   "cell_type": "markdown",
   "id": "5a0e4752",
   "metadata": {},
   "source": [
    "region 5 - Southeast Asia"
   ]
  },
  {
   "cell_type": "markdown",
   "id": "bc7ac2ad",
   "metadata": {},
   "source": [
    "region 6 - South Asia"
   ]
  },
  {
   "cell_type": "markdown",
   "id": "2f76822a",
   "metadata": {},
   "source": [
    "region 7 - Central Asia"
   ]
  },
  {
   "cell_type": "markdown",
   "id": "1b8181cd",
   "metadata": {},
   "source": [
    "region 8 - Western Europe"
   ]
  },
  {
   "cell_type": "markdown",
   "id": "f4970fbd",
   "metadata": {},
   "source": [
    "region 9 - Eastern Europe"
   ]
  },
  {
   "cell_type": "markdown",
   "id": "0b982e4f",
   "metadata": {},
   "source": [
    "region 10 - Middle East & North Africa"
   ]
  },
  {
   "cell_type": "markdown",
   "id": "7743afed",
   "metadata": {},
   "source": [
    "region 11 - Sub-saharan Africa"
   ]
  },
  {
   "cell_type": "markdown",
   "id": "58a918a7",
   "metadata": {},
   "source": [
    "region 12 - Australiasia & Oceania"
   ]
  }
 ],
 "metadata": {
  "kernelspec": {
   "display_name": "Python 3 (ipykernel)",
   "language": "python",
   "name": "python3"
  },
  "language_info": {
   "codemirror_mode": {
    "name": "ipython",
    "version": 3
   },
   "file_extension": ".py",
   "mimetype": "text/x-python",
   "name": "python",
   "nbconvert_exporter": "python",
   "pygments_lexer": "ipython3",
   "version": "3.9.12"
  }
 },
 "nbformat": 4,
 "nbformat_minor": 5
}
